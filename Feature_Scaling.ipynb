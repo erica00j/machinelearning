{
  "nbformat": 4,
  "nbformat_minor": 0,
  "metadata": {
    "colab": {
      "provenance": [],
      "authorship_tag": "ABX9TyOy+8Gka2mPWlL9XaKnwl9u",
      "include_colab_link": true
    },
    "kernelspec": {
      "name": "python3",
      "display_name": "Python 3"
    },
    "language_info": {
      "name": "python"
    }
  },
  "cells": [
    {
      "cell_type": "markdown",
      "metadata": {
        "id": "view-in-github",
        "colab_type": "text"
      },
      "source": [
        "<a href=\"https://colab.research.google.com/github/erica00j/machinelearning/blob/main/Feature_Scaling.ipynb\" target=\"_parent\"><img src=\"https://colab.research.google.com/assets/colab-badge.svg\" alt=\"Open In Colab\"/></a>"
      ]
    },
    {
      "cell_type": "code",
      "execution_count": 2,
      "metadata": {
        "colab": {
          "base_uri": "https://localhost:8080/",
          "height": 206
        },
        "id": "47J-tUKfswFp",
        "outputId": "68f08504-2253-476a-abe3-a77dcd7d100d"
      },
      "outputs": [
        {
          "output_type": "execute_result",
          "data": {
            "text/plain": [
              "  Country  Age  Salary  Purchased\n",
              "0  France   44   72000          0\n",
              "1   Spain   27   48000          1\n",
              "2     USA   30   54000          0\n",
              "3   Spain   38   61000          0\n",
              "4     USA   40    1000          1"
            ],
            "text/html": [
              "\n",
              "  <div id=\"df-b1111286-0e89-431a-970f-a9bd4d85a197\">\n",
              "    <div class=\"colab-df-container\">\n",
              "      <div>\n",
              "<style scoped>\n",
              "    .dataframe tbody tr th:only-of-type {\n",
              "        vertical-align: middle;\n",
              "    }\n",
              "\n",
              "    .dataframe tbody tr th {\n",
              "        vertical-align: top;\n",
              "    }\n",
              "\n",
              "    .dataframe thead th {\n",
              "        text-align: right;\n",
              "    }\n",
              "</style>\n",
              "<table border=\"1\" class=\"dataframe\">\n",
              "  <thead>\n",
              "    <tr style=\"text-align: right;\">\n",
              "      <th></th>\n",
              "      <th>Country</th>\n",
              "      <th>Age</th>\n",
              "      <th>Salary</th>\n",
              "      <th>Purchased</th>\n",
              "    </tr>\n",
              "  </thead>\n",
              "  <tbody>\n",
              "    <tr>\n",
              "      <th>0</th>\n",
              "      <td>France</td>\n",
              "      <td>44</td>\n",
              "      <td>72000</td>\n",
              "      <td>0</td>\n",
              "    </tr>\n",
              "    <tr>\n",
              "      <th>1</th>\n",
              "      <td>Spain</td>\n",
              "      <td>27</td>\n",
              "      <td>48000</td>\n",
              "      <td>1</td>\n",
              "    </tr>\n",
              "    <tr>\n",
              "      <th>2</th>\n",
              "      <td>USA</td>\n",
              "      <td>30</td>\n",
              "      <td>54000</td>\n",
              "      <td>0</td>\n",
              "    </tr>\n",
              "    <tr>\n",
              "      <th>3</th>\n",
              "      <td>Spain</td>\n",
              "      <td>38</td>\n",
              "      <td>61000</td>\n",
              "      <td>0</td>\n",
              "    </tr>\n",
              "    <tr>\n",
              "      <th>4</th>\n",
              "      <td>USA</td>\n",
              "      <td>40</td>\n",
              "      <td>1000</td>\n",
              "      <td>1</td>\n",
              "    </tr>\n",
              "  </tbody>\n",
              "</table>\n",
              "</div>\n",
              "      <button class=\"colab-df-convert\" onclick=\"convertToInteractive('df-b1111286-0e89-431a-970f-a9bd4d85a197')\"\n",
              "              title=\"Convert this dataframe to an interactive table.\"\n",
              "              style=\"display:none;\">\n",
              "        \n",
              "  <svg xmlns=\"http://www.w3.org/2000/svg\" height=\"24px\"viewBox=\"0 0 24 24\"\n",
              "       width=\"24px\">\n",
              "    <path d=\"M0 0h24v24H0V0z\" fill=\"none\"/>\n",
              "    <path d=\"M18.56 5.44l.94 2.06.94-2.06 2.06-.94-2.06-.94-.94-2.06-.94 2.06-2.06.94zm-11 1L8.5 8.5l.94-2.06 2.06-.94-2.06-.94L8.5 2.5l-.94 2.06-2.06.94zm10 10l.94 2.06.94-2.06 2.06-.94-2.06-.94-.94-2.06-.94 2.06-2.06.94z\"/><path d=\"M17.41 7.96l-1.37-1.37c-.4-.4-.92-.59-1.43-.59-.52 0-1.04.2-1.43.59L10.3 9.45l-7.72 7.72c-.78.78-.78 2.05 0 2.83L4 21.41c.39.39.9.59 1.41.59.51 0 1.02-.2 1.41-.59l7.78-7.78 2.81-2.81c.8-.78.8-2.07 0-2.86zM5.41 20L4 18.59l7.72-7.72 1.47 1.35L5.41 20z\"/>\n",
              "  </svg>\n",
              "      </button>\n",
              "      \n",
              "  <style>\n",
              "    .colab-df-container {\n",
              "      display:flex;\n",
              "      flex-wrap:wrap;\n",
              "      gap: 12px;\n",
              "    }\n",
              "\n",
              "    .colab-df-convert {\n",
              "      background-color: #E8F0FE;\n",
              "      border: none;\n",
              "      border-radius: 50%;\n",
              "      cursor: pointer;\n",
              "      display: none;\n",
              "      fill: #1967D2;\n",
              "      height: 32px;\n",
              "      padding: 0 0 0 0;\n",
              "      width: 32px;\n",
              "    }\n",
              "\n",
              "    .colab-df-convert:hover {\n",
              "      background-color: #E2EBFA;\n",
              "      box-shadow: 0px 1px 2px rgba(60, 64, 67, 0.3), 0px 1px 3px 1px rgba(60, 64, 67, 0.15);\n",
              "      fill: #174EA6;\n",
              "    }\n",
              "\n",
              "    [theme=dark] .colab-df-convert {\n",
              "      background-color: #3B4455;\n",
              "      fill: #D2E3FC;\n",
              "    }\n",
              "\n",
              "    [theme=dark] .colab-df-convert:hover {\n",
              "      background-color: #434B5C;\n",
              "      box-shadow: 0px 1px 3px 1px rgba(0, 0, 0, 0.15);\n",
              "      filter: drop-shadow(0px 1px 2px rgba(0, 0, 0, 0.3));\n",
              "      fill: #FFFFFF;\n",
              "    }\n",
              "  </style>\n",
              "\n",
              "      <script>\n",
              "        const buttonEl =\n",
              "          document.querySelector('#df-b1111286-0e89-431a-970f-a9bd4d85a197 button.colab-df-convert');\n",
              "        buttonEl.style.display =\n",
              "          google.colab.kernel.accessAllowed ? 'block' : 'none';\n",
              "\n",
              "        async function convertToInteractive(key) {\n",
              "          const element = document.querySelector('#df-b1111286-0e89-431a-970f-a9bd4d85a197');\n",
              "          const dataTable =\n",
              "            await google.colab.kernel.invokeFunction('convertToInteractive',\n",
              "                                                     [key], {});\n",
              "          if (!dataTable) return;\n",
              "\n",
              "          const docLinkHtml = 'Like what you see? Visit the ' +\n",
              "            '<a target=\"_blank\" href=https://colab.research.google.com/notebooks/data_table.ipynb>data table notebook</a>'\n",
              "            + ' to learn more about interactive tables.';\n",
              "          element.innerHTML = '';\n",
              "          dataTable['output_type'] = 'display_data';\n",
              "          await google.colab.output.renderOutput(dataTable, element);\n",
              "          const docLink = document.createElement('div');\n",
              "          docLink.innerHTML = docLinkHtml;\n",
              "          element.appendChild(docLink);\n",
              "        }\n",
              "      </script>\n",
              "    </div>\n",
              "  </div>\n",
              "  "
            ]
          },
          "metadata": {},
          "execution_count": 2
        }
      ],
      "source": [
        "import numpy as np\n",
        "import matplotlib.pyplot as plt\n",
        "import pandas as pd\n",
        "\n",
        "from sklearn import preprocessing\n",
        "\n",
        "data_set = pd.read_excel('/content/Data_Feature_Scaling.xlsx')\n",
        "data_set.head()"
      ]
    },
    {
      "cell_type": "code",
      "source": [
        "#here Features - Age and Salary columns\n",
        "#are taken using slicing\n",
        "#to handle values with varying magnitude\n",
        "x = data_set.iloc[:,1:3].values\n",
        "print(\"\\nOriginal data values : \\n\",x)"
      ],
      "metadata": {
        "colab": {
          "base_uri": "https://localhost:8080/"
        },
        "id": "3JDIykcht8jW",
        "outputId": "57a77995-9ea7-4658-b709-c370ca7815ec"
      },
      "execution_count": 3,
      "outputs": [
        {
          "output_type": "stream",
          "name": "stdout",
          "text": [
            "\n",
            "Original data values : \n",
            " [[   44 72000]\n",
            " [   27 48000]\n",
            " [   30 54000]\n",
            " [   38 61000]\n",
            " [   40  1000]\n",
            " [   35 58000]\n",
            " [   78 52000]\n",
            " [   48 79000]\n",
            " [   50 83000]\n",
            " [   37 67000]]\n"
          ]
        }
      ]
    },
    {
      "cell_type": "markdown",
      "source": [
        ":은 모든 행, 1:3은 1,2열"
      ],
      "metadata": {
        "id": "HGt9r8iPudr-"
      }
    },
    {
      "cell_type": "code",
      "source": [
        "\"\"\" MIN MAX SCALER \"\"\"\n",
        "min_max_scaler = preprocessing.MinMaxScaler(feature_range=(0,1))\n",
        "\n",
        "#Scaled feature\n",
        "min_max_scaler.fit(x)\n",
        "x_after_min_max_scaler = min_max_scaler.transform(x)\n",
        "\n",
        "print (\"\\nAfter min max Scaling : \\n\",x_after_min_max_scaler)\n",
        "\n",
        "\"\"\" Standardisation \"\"\"\n",
        "Standardisation = preprocessing.StandardScaler()\n",
        "\n",
        "#Scaled feature\n",
        "Standardisation.fit(x)\n",
        "x_after_Standardisation = Standardisation.transform(x)\n",
        "\n",
        "print (\"\\nAfter Standardisation : \\n\",x_after_Standardisation)\n"
      ],
      "metadata": {
        "colab": {
          "base_uri": "https://localhost:8080/"
        },
        "id": "XM1Zumt6uqxT",
        "outputId": "21f86398-77ee-4305-9add-67e2e86257f5"
      },
      "execution_count": 4,
      "outputs": [
        {
          "output_type": "stream",
          "name": "stdout",
          "text": [
            "\n",
            "After min max Scaling : \n",
            " [[0.33333333 0.86585366]\n",
            " [0.         0.57317073]\n",
            " [0.05882353 0.64634146]\n",
            " [0.21568627 0.73170732]\n",
            " [0.25490196 0.        ]\n",
            " [0.15686275 0.69512195]\n",
            " [1.         0.62195122]\n",
            " [0.41176471 0.95121951]\n",
            " [0.45098039 1.        ]\n",
            " [0.19607843 0.80487805]]\n",
            "\n",
            "After Standardisation : \n",
            " [[ 0.09536935  0.66527061]\n",
            " [-1.15176827 -0.43586695]\n",
            " [-0.93168516 -0.16058256]\n",
            " [-0.34479687  0.16058256]\n",
            " [-0.1980748  -2.59226136]\n",
            " [-0.56487998  0.02294037]\n",
            " [ 2.58964459 -0.25234403]\n",
            " [ 0.38881349  0.98643574]\n",
            " [ 0.53553557  1.16995867]\n",
            " [-0.41815791  0.43586695]]\n"
          ]
        }
      ]
    },
    {
      "cell_type": "markdown",
      "source": [
        "standard scaler는 Xnew = (Xi-Xmean)/s.d(1)\n",
        "MinMax Scaler는 Xnew = (Xi-min(X))/(max(X)-min(X))\n",
        "만약 7번째면 (78-27)/(78-27)=1\n",
        "After min max Scaling은 0~1사이의 값\n"
      ],
      "metadata": {
        "id": "kpXhTjkRv-kI"
      }
    }
  ]
}