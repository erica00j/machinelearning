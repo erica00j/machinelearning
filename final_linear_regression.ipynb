{
  "nbformat": 4,
  "nbformat_minor": 0,
  "metadata": {
    "colab": {
      "provenance": [],
      "authorship_tag": "ABX9TyMRFm0+cHuFiyozohi6l/oM",
      "include_colab_link": true
    },
    "kernelspec": {
      "name": "python3",
      "display_name": "Python 3"
    },
    "language_info": {
      "name": "python"
    }
  },
  "cells": [
    {
      "cell_type": "markdown",
      "metadata": {
        "id": "view-in-github",
        "colab_type": "text"
      },
      "source": [
        "<a href=\"https://colab.research.google.com/github/erica00j/machinelearning/blob/main/final_linear_regression.ipynb\" target=\"_parent\"><img src=\"https://colab.research.google.com/assets/colab-badge.svg\" alt=\"Open In Colab\"/></a>"
      ]
    },
    {
      "cell_type": "code",
      "execution_count": 1,
      "metadata": {
        "colab": {
          "base_uri": "https://localhost:8080/"
        },
        "id": "78JqMjOsjHdB",
        "outputId": "6c8b429d-9fa8-4571-bb9d-61710246f904"
      },
      "outputs": [
        {
          "output_type": "execute_result",
          "data": {
            "text/plain": [
              "array([16.])"
            ]
          },
          "metadata": {},
          "execution_count": 1
        }
      ],
      "source": [
        "import numpy as np\n",
        "from sklearn.linear_model import LinearRegression\n",
        "\n",
        "X=np.array([[1,1],[1,2],[2,2],[2,3]])\n",
        "\n",
        "y=np.dot(X,np.array([1,2]))+3\n",
        "reg = LinearRegression().fit(X,y)\n",
        "reg.score(X,y)\n",
        "reg.coef_\n",
        "reg.intercept_\n",
        "reg.predict(np.array([[3,5]]))"
      ]
    },
    {
      "cell_type": "code",
      "source": [
        "reg.score(X,y)"
      ],
      "metadata": {
        "colab": {
          "base_uri": "https://localhost:8080/"
        },
        "id": "_gAT-LXWkbQD",
        "outputId": "0a9a1f43-d6c2-473d-c531-a393be0a680c"
      },
      "execution_count": 2,
      "outputs": [
        {
          "output_type": "execute_result",
          "data": {
            "text/plain": [
              "1.0"
            ]
          },
          "metadata": {},
          "execution_count": 2
        }
      ]
    },
    {
      "cell_type": "code",
      "source": [
        "reg.coef_"
      ],
      "metadata": {
        "colab": {
          "base_uri": "https://localhost:8080/"
        },
        "id": "Dk8l6_Ookepl",
        "outputId": "ec05cf67-28b2-4c53-84f6-4b0797d49272"
      },
      "execution_count": 3,
      "outputs": [
        {
          "output_type": "execute_result",
          "data": {
            "text/plain": [
              "array([1., 2.])"
            ]
          },
          "metadata": {},
          "execution_count": 3
        }
      ]
    },
    {
      "cell_type": "code",
      "source": [
        "reg.intercept_"
      ],
      "metadata": {
        "colab": {
          "base_uri": "https://localhost:8080/"
        },
        "id": "6kADaNYJkhmx",
        "outputId": "a721a211-ef8d-4b80-b019-4cee1c0d7c33"
      },
      "execution_count": 5,
      "outputs": [
        {
          "output_type": "execute_result",
          "data": {
            "text/plain": [
              "3.0000000000000018"
            ]
          },
          "metadata": {},
          "execution_count": 5
        }
      ]
    },
    {
      "cell_type": "code",
      "source": [
        "from sklearn import metrics\n",
        "import numpy as np\n",
        "from sklearn.linear_model import LinearRegression\n",
        "\n",
        "X=np.array([[1,1],[1,2],[2,2],[2,3]])\n",
        "\n",
        "y=np.dot(X,np.array([1,2]))+3\n",
        "reg = LinearRegression().fit(X,y)\n",
        "reg.score(X,y)\n",
        "reg.coef_\n",
        "reg.intercept_\n",
        "reg.predict(np.array([[3,5]]))\n"
      ],
      "metadata": {
        "id": "90Ib9BEDmNup"
      },
      "execution_count": null,
      "outputs": []
    }
  ]
}