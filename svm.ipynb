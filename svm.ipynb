{
  "nbformat": 4,
  "nbformat_minor": 0,
  "metadata": {
    "colab": {
      "provenance": [],
      "authorship_tag": "ABX9TyO+ho1l95bj/FVTfRSuyRRz",
      "include_colab_link": true
    },
    "kernelspec": {
      "name": "python3",
      "display_name": "Python 3"
    },
    "language_info": {
      "name": "python"
    }
  },
  "cells": [
    {
      "cell_type": "markdown",
      "metadata": {
        "id": "view-in-github",
        "colab_type": "text"
      },
      "source": [
        "<a href=\"https://colab.research.google.com/github/erica00j/machinelearning/blob/main/svm.ipynb\" target=\"_parent\"><img src=\"https://colab.research.google.com/assets/colab-badge.svg\" alt=\"Open In Colab\"/></a>"
      ]
    },
    {
      "cell_type": "code",
      "execution_count": null,
      "metadata": {
        "colab": {
          "base_uri": "https://localhost:8080/"
        },
        "id": "3UAeib6rrffT",
        "outputId": "414742f9-0958-4a98-d00f-742a7e3c0afb"
      },
      "outputs": [
        {
          "output_type": "stream",
          "name": "stdout",
          "text": [
            "[[124  22]\n",
            " [ 68  86]]\n",
            "              precision    recall  f1-score   support\n",
            "\n",
            "           0       0.65      0.85      0.73       146\n",
            "           1       0.80      0.56      0.66       154\n",
            "\n",
            "    accuracy                           0.70       300\n",
            "   macro avg       0.72      0.70      0.70       300\n",
            "weighted avg       0.72      0.70      0.69       300\n",
            "\n"
          ]
        }
      ],
      "source": [
        "import pandas as pd \n",
        "from sklearn.model_selection import train_test_split \n",
        "from sklearn.svm import SVC \n",
        "from sklearn.metrics import classification_report, confusion_matrix \n",
        "from sklearn.model_selection import GridSearchCV\n",
        "\n",
        "df = pd.read_csv('/content/advertising.csv')\n",
        "\n",
        "del df['Ad Topic Line']\n",
        "del df['Timestamp']\n",
        "\n",
        "df = pd.get_dummies(df, columns=['Country', 'City'])\n",
        "\n",
        "X = df.drop('Clicked on Ad', axis=1)\n",
        "y = df['Clicked on Ad']\n",
        "\n",
        "X_train, X_test, y_train, y_test = train_test_split(X, y, test_size=0.3, random_state=10)\n",
        "\n",
        "model = SVC()\n",
        "model.fit(X_train, y_train)\n",
        "model_predict = model.predict(X_test)\n",
        "\n",
        "#Confusion matrix \n",
        "print(confusion_matrix(y_test, model_predict)) \n",
        "\n",
        "#Classification report \n",
        "print(classification_report(y_test, model_predict))"
      ]
    },
    {
      "cell_type": "code",
      "source": [
        "hyperparameters = {'C':[10,25,50], 'gamma':[0.001,.0001,0.00001]}\n",
        "grid = GridSearchCV(SVC(), hyperparameters)\n",
        "grid.fit(X_train, y_train)\n",
        "grid.best_params_"
      ],
      "metadata": {
        "colab": {
          "base_uri": "https://localhost:8080/"
        },
        "id": "SWKuiA_uuJQ8",
        "outputId": "94df0554-d4c8-407e-b2a6-4a1a0d00270a"
      },
      "execution_count": null,
      "outputs": [
        {
          "output_type": "execute_result",
          "data": {
            "text/plain": [
              "{'C': 50, 'gamma': 1e-05}"
            ]
          },
          "metadata": {},
          "execution_count": 3
        }
      ]
    },
    {
      "cell_type": "code",
      "source": [
        "grid_predictions = grid.predict(X_test)\n",
        "\n",
        "#Confusion matrix \n",
        "print(confusion_matrix(y_test,grid_predictions))\n",
        "\n",
        "#Classification report \n",
        "print(classification_report(y_test,grid_predictions))\n"
      ],
      "metadata": {
        "id": "z72hm3FuuNzI",
        "outputId": "b15e0689-9798-4c01-bbbb-79de39ac546b",
        "colab": {
          "base_uri": "https://localhost:8080/"
        }
      },
      "execution_count": null,
      "outputs": [
        {
          "output_type": "stream",
          "name": "stdout",
          "text": [
            "[[129  17]\n",
            " [ 15 139]]\n",
            "              precision    recall  f1-score   support\n",
            "\n",
            "           0       0.90      0.88      0.89       146\n",
            "           1       0.89      0.90      0.90       154\n",
            "\n",
            "    accuracy                           0.89       300\n",
            "   macro avg       0.89      0.89      0.89       300\n",
            "weighted avg       0.89      0.89      0.89       300\n",
            "\n"
          ]
        }
      ]
    }
  ]
}