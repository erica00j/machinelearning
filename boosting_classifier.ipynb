{
  "nbformat": 4,
  "nbformat_minor": 0,
  "metadata": {
    "colab": {
      "provenance": [],
      "authorship_tag": "ABX9TyNMD/Wr57jTEZVaQ8SAB0mU",
      "include_colab_link": true
    },
    "kernelspec": {
      "name": "python3",
      "display_name": "Python 3"
    },
    "language_info": {
      "name": "python"
    }
  },
  "cells": [
    {
      "cell_type": "markdown",
      "metadata": {
        "id": "view-in-github",
        "colab_type": "text"
      },
      "source": [
        "<a href=\"https://colab.research.google.com/github/erica00j/machinelearning/blob/main/boosting_classifier.ipynb\" target=\"_parent\"><img src=\"https://colab.research.google.com/assets/colab-badge.svg\" alt=\"Open In Colab\"/></a>"
      ]
    },
    {
      "cell_type": "code",
      "execution_count": 1,
      "metadata": {
        "id": "FZGQl4FJ4Odp"
      },
      "outputs": [],
      "source": [
        "import pandas as pd \n",
        "from sklearn.model_selection import train_test_split\n",
        "from sklearn import ensemble\n",
        "from sklearn.metrics import classification_report, confusion_matrix\n",
        "\n",
        "\n",
        "df = pd.read_csv('/content/advertising.csv') "
      ]
    },
    {
      "cell_type": "code",
      "source": [
        "df = pd.get_dummies(df, columns=['Country', 'City'])\n",
        "\n",
        "del df['Ad Topic Line']\n",
        "del df['Timestamp']"
      ],
      "metadata": {
        "id": "fAb1C6Us4p0s"
      },
      "execution_count": 2,
      "outputs": []
    },
    {
      "cell_type": "code",
      "source": [
        "X = df.drop('Clicked on Ad',axis=1) \n",
        "y = df['Clicked on Ad']\n",
        " \n",
        "X_train, X_test, y_train, y_test = train_test_split(X, y, test_size=0.3, random_state=10, shuffle=True)"
      ],
      "metadata": {
        "id": "ntUWRpsd4vQU"
      },
      "execution_count": 3,
      "outputs": []
    },
    {
      "cell_type": "code",
      "source": [
        "model = ensemble.GradientBoostingClassifier( n_estimators = 200, \n",
        "                                            learning_rate = 0.1,\n",
        "                                            max_depth = 5,\n",
        "                                            min_samples_split = 4,\n",
        "                                            min_samples_leaf = 6,\n",
        "                                            max_features = 0.6,\n",
        "                                            loss = 'deviance' )\n",
        "model.fit(X_train, y_train)\n",
        "model_predict = model.predict(X_test)\n",
        "\n",
        "print(confusion_matrix(y_test, model_predict))\n",
        "print(classification_report(y_test, model_predict))"
      ],
      "metadata": {
        "colab": {
          "base_uri": "https://localhost:8080/"
        },
        "id": "bQ2Lo3G-4ylt",
        "outputId": "c8fa4c59-9c1e-4a35-bf4c-7cae8ebddb68"
      },
      "execution_count": 4,
      "outputs": [
        {
          "output_type": "stream",
          "name": "stdout",
          "text": [
            "[[141   5]\n",
            " [  9 145]]\n",
            "              precision    recall  f1-score   support\n",
            "\n",
            "           0       0.94      0.97      0.95       146\n",
            "           1       0.97      0.94      0.95       154\n",
            "\n",
            "    accuracy                           0.95       300\n",
            "   macro avg       0.95      0.95      0.95       300\n",
            "weighted avg       0.95      0.95      0.95       300\n",
            "\n"
          ]
        }
      ]
    }
  ]
}