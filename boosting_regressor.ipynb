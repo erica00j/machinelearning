{
  "nbformat": 4,
  "nbformat_minor": 0,
  "metadata": {
    "colab": {
      "provenance": [],
      "authorship_tag": "ABX9TyPxH+ddw+Z0Ev5Zi0oAo25b",
      "include_colab_link": true
    },
    "kernelspec": {
      "name": "python3",
      "display_name": "Python 3"
    },
    "language_info": {
      "name": "python"
    }
  },
  "cells": [
    {
      "cell_type": "markdown",
      "metadata": {
        "id": "view-in-github",
        "colab_type": "text"
      },
      "source": [
        "<a href=\"https://colab.research.google.com/github/erica00j/machinelearning/blob/main/boosting_regressor.ipynb\" target=\"_parent\"><img src=\"https://colab.research.google.com/assets/colab-badge.svg\" alt=\"Open In Colab\"/></a>"
      ]
    },
    {
      "cell_type": "code",
      "execution_count": 1,
      "metadata": {
        "id": "mU8vo8UrU3ND"
      },
      "outputs": [],
      "source": [
        "import pandas as pd\n",
        "from sklearn.model_selection import train_test_split\n",
        "from sklearn import ensemble\n",
        "from sklearn.metrics import mean_absolute_error\n",
        "\n",
        "df = pd.read_csv('/content/listings_berlin.csv')"
      ]
    },
    {
      "cell_type": "code",
      "source": [
        "del df['id']\n",
        "del df['name']\n",
        "del df['host_name']\n",
        "del df['last_review']\n",
        "del df['calculated_host_listings_count']\n",
        "del df['availability_365']\n",
        "del df['longitude']\n",
        "del df['neighbourhood']\n",
        "del df['latitude']"
      ],
      "metadata": {
        "id": "V0-6BMLmXd2r"
      },
      "execution_count": 2,
      "outputs": []
    },
    {
      "cell_type": "code",
      "source": [
        "df = pd.get_dummies(df, columns = ['neighbourhood_group', 'room_type'])"
      ],
      "metadata": {
        "id": "y2Dv5lENXgaF"
      },
      "execution_count": 3,
      "outputs": []
    },
    {
      "cell_type": "code",
      "source": [
        "df.dropna(axis = 0, how = 'any', thresh = None, subset = None, inplace = True)"
      ],
      "metadata": {
        "id": "Ap2lXkC8XkB-"
      },
      "execution_count": 4,
      "outputs": []
    },
    {
      "cell_type": "code",
      "source": [
        "X = df.drop('price', axis = 1)\n",
        "y = df['price']\n",
        "\n",
        "X_train, X_test, y_train, y_test = train_test_split(X, y, test_size = 0.3, random_state = 10, shuffle=True)"
      ],
      "metadata": {
        "id": "NXN3n20RXmRl"
      },
      "execution_count": 5,
      "outputs": []
    },
    {
      "cell_type": "code",
      "source": [
        "model = ensemble.GradientBoostingRegressor(\n",
        "        n_estimators = 350, \n",
        "        learning_rate = 0.1, \n",
        "        max_depth = 5, \n",
        "        min_samples_split = 4, \n",
        "        min_samples_leaf = 6, \n",
        "        max_features = 0.6, \n",
        "        loss = 'huber'\n",
        "       )\n",
        "\n",
        "model.fit(X_train, y_train)\n",
        "\n",
        "mae_train, mae_test = 0.0, 0.0\n",
        "\n",
        "mae_train = mean_absolute_error(y_train, model.predict(X_train))\n",
        "print(\"Training Set Mean Absolute Error: %.2f\" % mae_train)\n",
        "\n",
        "mae_test = mean_absolute_error(y_test, model.predict(X_test))\n",
        "print(\"Test Set Mean Absolute Error: %.2f\" % mae_test)"
      ],
      "metadata": {
        "colab": {
          "base_uri": "https://localhost:8080/"
        },
        "id": "PhGRiaEaXs71",
        "outputId": "79419590-d944-48e0-91b4-c5bf8a3d3cf4"
      },
      "execution_count": 7,
      "outputs": [
        {
          "output_type": "stream",
          "name": "stdout",
          "text": [
            "Training Set Mean Absolute Error: 22.65\n",
            "Test Set Mean Absolute Error: 28.60\n"
          ]
        }
      ]
    },
    {
      "cell_type": "code",
      "source": [
        "new_property = [\n",
        "    3176426, # host_id\n",
        "    2, # minimum_nights\n",
        "    19, # number_of_reviews\n",
        "    1.08, # reviews_per_month\n",
        "    0, # neighbourhood_group_Charlottenburg-Wilm\n",
        "    0, # neighbourhood_group_Friedrichshain-Kreuzberg\n",
        "    0, # neighbourhood_group_Lichtenberg\n",
        "    0, # neighbourhood_group_Marzahn-Hellersdorf\n",
        "    1, # neighbourhood_group_Mitte\n",
        "    0, # neighbourhood_group_Neukolln\n",
        "    0, # neighbourhood_group_Pankow\n",
        "    0, # neighbourhood_group_Reinickendorf\n",
        "    0, # neighbourhood_group_Spandau\n",
        "    0, # neighbourhood_group_Steglitz-Zehlendorf\n",
        "    0, # neighbourhood_group_Tempelhof-Schoneberg\n",
        "    0, # neighbourhood_group_Treptow-Kopenick\n",
        "    1, # room_type_Entire home/apt\n",
        "    0, # room_type_Hotel room\n",
        "    0, # room_type_Private room\n",
        "    0  # room_type_Shared room\n",
        "]\n",
        "\n",
        "new_pred = model.predict([new_property])\n",
        "new_pred"
      ],
      "metadata": {
        "colab": {
          "base_uri": "https://localhost:8080/"
        },
        "id": "85C9bM3pX1BR",
        "outputId": "be5dbd57-328a-4b82-e924-b5969c0ad77d"
      },
      "execution_count": 12,
      "outputs": [
        {
          "output_type": "stream",
          "name": "stderr",
          "text": [
            "/usr/local/lib/python3.7/dist-packages/sklearn/base.py:451: UserWarning: X does not have valid feature names, but GradientBoostingRegressor was fitted with feature names\n",
            "  \"X does not have valid feature names, but\"\n"
          ]
        },
        {
          "output_type": "execute_result",
          "data": {
            "text/plain": [
              "array([109.71124445])"
            ]
          },
          "metadata": {},
          "execution_count": 12
        }
      ]
    }
  ]
}