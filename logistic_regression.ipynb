{
  "nbformat": 4,
  "nbformat_minor": 0,
  "metadata": {
    "colab": {
      "provenance": [],
      "authorship_tag": "ABX9TyN+F4vxc8UabQzs7OYM/3Us",
      "include_colab_link": true
    },
    "kernelspec": {
      "name": "python3",
      "display_name": "Python 3"
    },
    "language_info": {
      "name": "python"
    }
  },
  "cells": [
    {
      "cell_type": "markdown",
      "metadata": {
        "id": "view-in-github",
        "colab_type": "text"
      },
      "source": [
        "<a href=\"https://colab.research.google.com/github/erica00j/machinelearning/blob/main/logistic_regression.ipynb\" target=\"_parent\"><img src=\"https://colab.research.google.com/assets/colab-badge.svg\" alt=\"Open In Colab\"/></a>"
      ]
    },
    {
      "cell_type": "code",
      "execution_count": 2,
      "metadata": {
        "id": "HBBQDydnVPB0",
        "outputId": "2d3fc681-4dbc-4c43-a5f5-40548fafbe9d",
        "colab": {
          "base_uri": "https://localhost:8080/"
        }
      },
      "outputs": [
        {
          "output_type": "stream",
          "name": "stderr",
          "text": [
            "/usr/local/lib/python3.7/dist-packages/IPython/core/interactiveshell.py:3326: DtypeWarning: Columns (27) have mixed types.Specify dtype option on import or set low_memory=False.\n",
            "  exec(code_obj, self.user_global_ns, self.user_ns)\n"
          ]
        },
        {
          "output_type": "execute_result",
          "data": {
            "text/plain": [
              "(18142, 36)"
            ]
          },
          "metadata": {},
          "execution_count": 2
        }
      ],
      "source": [
        "import pandas as pd\n",
        "import matplotlib.pyplot as plt \n",
        "import seaborn as sns\n",
        "%matplotlib inline \n",
        "from sklearn.model_selection import train_test_split\n",
        "from sklearn.linear_model import LogisticRegression\n",
        "from sklearn.metrics import confusion_matrix, classification_report\n",
        "\n",
        "df = pd.read_csv('/content/18k_Projects.csv')\n",
        "\n",
        "del df['Id']\n",
        "del df['Name'] \n",
        "del df['Url'] \n",
        "del df['Location'] \n",
        "del df['Pledged'] \n",
        "del df['Creator'] \n",
        "del df['Category'] \n",
        "del df['Updates'] \n",
        "del df['Start'] \n",
        "del df['End']\n",
        "del df['Latitude'] \n",
        "del df['Longitude']\n",
        "del df['Start Timestamp (UTC)']\n",
        "del df['End Timestamp (UTC)']\n",
        "del df['Creator Bio'] \n",
        "del df['Creator Website']\n",
        "\n",
        "df = pd.get_dummies(df, columns=['State', 'Currency', 'Top Category', 'Facebook Connected', 'Has Video'], drop_first=True)\n",
        "df.shape"
      ]
    },
    {
      "cell_type": "code",
      "source": [
        "df.isnull().sum()"
      ],
      "metadata": {
        "colab": {
          "base_uri": "https://localhost:8080/"
        },
        "id": "P2s8YzZVx3Mx",
        "outputId": "9db8d583-bb2f-469c-c830-0f2344250dd6"
      },
      "execution_count": 3,
      "outputs": [
        {
          "output_type": "execute_result",
          "data": {
            "text/plain": [
              "Comments                             0\n",
              "Rewards                              0\n",
              "Goal                                 0\n",
              "Backers                              0\n",
              "Duration in Days                     0\n",
              "Facebook Friends                  5852\n",
              "Facebook Shares                      0\n",
              "Creator - # Projects Created         0\n",
              "Creator - # Projects Backed       4244\n",
              "# Videos                           101\n",
              "# Images                             0\n",
              "# Words (Description)                0\n",
              "# Words (Risks and Challenges)     101\n",
              "# FAQs                               0\n",
              "State_successful                     0\n",
              "Currency_CAD                         0\n",
              "Currency_EUR                         0\n",
              "Currency_GBP                         0\n",
              "Currency_NZD                         0\n",
              "Currency_USD                         0\n",
              "Top Category_Comics                  0\n",
              "Top Category_Crafts                  0\n",
              "Top Category_Dance                   0\n",
              "Top Category_Design                  0\n",
              "Top Category_Fashion                 0\n",
              "Top Category_Film & Video            0\n",
              "Top Category_Food                    0\n",
              "Top Category_Games                   0\n",
              "Top Category_Journalism              0\n",
              "Top Category_Music                   0\n",
              "Top Category_Photography             0\n",
              "Top Category_Publishing              0\n",
              "Top Category_Technology              0\n",
              "Top Category_Theater                 0\n",
              "Facebook Connected_Yes               0\n",
              "Has Video_Yes                        0\n",
              "dtype: int64"
            ]
          },
          "metadata": {},
          "execution_count": 3
        }
      ]
    },
    {
      "cell_type": "code",
      "source": [
        "# Code for obtaining correlation coefficients\n",
        "#0.0은 버림 0.1은 추후 판단\n",
        "df['State_successful'].corr(df['Facebook Friends'])\n",
        "#0.15954024784972815\n",
        "df['State_successful'].corr(df['Creator - # Projects Backed'])\n",
        "#0.10624973985586753\n",
        "df['State_successful'].corr(df['# Videos'])\n",
        "#0.05657919078430421\n",
        "df['State_successful'].corr(df['# Words (Risks and Challenges)'])\n",
        "#0.007544860569767824"
      ],
      "metadata": {
        "colab": {
          "base_uri": "https://localhost:8080/"
        },
        "id": "civp9gx9x4ku",
        "outputId": "ae6f8136-5b7a-495b-ba43-278d859e4782"
      },
      "execution_count": 7,
      "outputs": [
        {
          "output_type": "execute_result",
          "data": {
            "text/plain": [
              "0.007544860569767824"
            ]
          },
          "metadata": {},
          "execution_count": 7
        }
      ]
    },
    {
      "cell_type": "code",
      "source": [
        "#Distribution plot of variable 'Facebook Friends'  \n",
        "#중간값으로 채우는게 의미가 없음\n",
        "plt.figure(figsize=(12,6))\n",
        "sns.distplot(df['Facebook Friends'], kde=True, hist=0)"
      ],
      "metadata": {
        "colab": {
          "base_uri": "https://localhost:8080/",
          "height": 463
        },
        "id": "TOF9-1AGx6-F",
        "outputId": "2dac4eef-ad73-4446-d28b-6953ac5eea01"
      },
      "execution_count": null,
      "outputs": [
        {
          "output_type": "stream",
          "name": "stderr",
          "text": [
            "/usr/local/lib/python3.7/dist-packages/seaborn/distributions.py:2619: FutureWarning: `distplot` is a deprecated function and will be removed in a future version. Please adapt your code to use either `displot` (a figure-level function with similar flexibility) or `kdeplot` (an axes-level function for kernel density plots).\n",
            "  warnings.warn(msg, FutureWarning)\n"
          ]
        },
        {
          "output_type": "execute_result",
          "data": {
            "text/plain": [
              "<matplotlib.axes._subplots.AxesSubplot at 0x7f9ac4e7e950>"
            ]
          },
          "metadata": {},
          "execution_count": 6
        },
        {
          "output_type": "display_data",
          "data": {
            "text/plain": [
              "<Figure size 864x432 with 1 Axes>"
            ],
            "image/png": "[encoded data removed]"
          },
          "metadata": {
            "needs_background": "light"
          }
        }
      ]
    },
    {
      "cell_type": "code",
      "source": [
        "#Distribution plot of variable 'Creator - # Projects Backed' \n",
        "#중간값으로 채우기\n",
        "plt.figure(figsize=(12,6))  \n",
        "sns.distplot(df['Creator - # Projects Backed'], kde=True, hist=0)"
      ],
      "metadata": {
        "colab": {
          "base_uri": "https://localhost:8080/",
          "height": 463
        },
        "id": "6isbxRrQx-eM",
        "outputId": "700b2c91-bc0a-4db3-94e4-b28f5d0cd81d"
      },
      "execution_count": null,
      "outputs": [
        {
          "output_type": "stream",
          "name": "stderr",
          "text": [
            "/usr/local/lib/python3.7/dist-packages/seaborn/distributions.py:2619: FutureWarning: `distplot` is a deprecated function and will be removed in a future version. Please adapt your code to use either `displot` (a figure-level function with similar flexibility) or `kdeplot` (an axes-level function for kernel density plots).\n",
            "  warnings.warn(msg, FutureWarning)\n"
          ]
        },
        {
          "output_type": "execute_result",
          "data": {
            "text/plain": [
              "<matplotlib.axes._subplots.AxesSubplot at 0x7f9ac4e7e7d0>"
            ]
          },
          "metadata": {},
          "execution_count": 7
        },
        {
          "output_type": "display_data",
          "data": {
            "text/plain": [
              "<Figure size 864x432 with 1 Axes>"
            ],
            "image/png": "[encoded data removed]"
          },
          "metadata": {
            "needs_background": "light"
          }
        }
      ]
    },
    {
      "cell_type": "code",
      "source": [
        "# Fill missing values for 'Creator - # Projects Backed' with the mean value \n",
        "df['Creator - # Projects Backed'].fillna(df['Creator - # Projects Backed'].mean(), inplace=True)"
      ],
      "metadata": {
        "id": "SwMX0bT3yBkJ"
      },
      "execution_count": null,
      "outputs": []
    },
    {
      "cell_type": "code",
      "source": [
        "# Drop remaining missing values for remaining variables \n",
        "df.dropna(axis=0, how='any', thresh=None, subset=None, inplace=True) \n",
        "df.shape"
      ],
      "metadata": {
        "colab": {
          "base_uri": "https://localhost:8080/"
        },
        "id": "44mBOgAlyD79",
        "outputId": "d76da429-cec9-48f7-ce94-19c4278705dc"
      },
      "execution_count": null,
      "outputs": [
        {
          "output_type": "execute_result",
          "data": {
            "text/plain": [
              "(12215, 36)"
            ]
          },
          "metadata": {},
          "execution_count": 9
        }
      ]
    },
    {
      "cell_type": "code",
      "source": [
        "#x는 state_successful을 drop한 나머지 값\n",
        "X = df.drop('State_successful',axis=1) \n",
        "y = df['State_successful']\n",
        "\n",
        "X_train, X_test, y_train, y_test = train_test_split(X, y, test_size=0.3, random_state=10, shuffle=True)\n",
        "\n",
        "model = LogisticRegression()\n",
        "model.fit(X_train, y_train)\n",
        "\n",
        "model_predict = model.predict(X_test)\n",
        "\n",
        "#Confusion matrix \n",
        "#172는 false-positive, 225는 false-negative, true-negative, true-positive\n",
        "print(confusion_matrix(y_test, model_predict)) \n",
        "\n",
        "#Classification report \n",
        "print(classification_report(y_test, model_predict))"
      ],
      "metadata": {
        "colab": {
          "base_uri": "https://localhost:8080/"
        },
        "id": "_nJnd-IMyGQN",
        "outputId": "22823d4e-902c-4908-fc65-ae163dd77559"
      },
      "execution_count": null,
      "outputs": [
        {
          "output_type": "stream",
          "name": "stdout",
          "text": [
            "[[1657  172]\n",
            " [ 225 1611]]\n",
            "              precision    recall  f1-score   support\n",
            "\n",
            "           0       0.88      0.91      0.89      1829\n",
            "           1       0.90      0.88      0.89      1836\n",
            "\n",
            "    accuracy                           0.89      3665\n",
            "   macro avg       0.89      0.89      0.89      3665\n",
            "weighted avg       0.89      0.89      0.89      3665\n",
            "\n"
          ]
        },
        {
          "output_type": "stream",
          "name": "stderr",
          "text": [
            "/usr/local/lib/python3.7/dist-packages/sklearn/linear_model/_logistic.py:818: ConvergenceWarning: lbfgs failed to converge (status=1):\n",
            "STOP: TOTAL NO. of ITERATIONS REACHED LIMIT.\n",
            "\n",
            "Increase the number of iterations (max_iter) or scale the data as shown in:\n",
            "    https://scikit-learn.org/stable/modules/preprocessing.html\n",
            "Please also refer to the documentation for alternative solver options:\n",
            "    https://scikit-learn.org/stable/modules/linear_model.html#logistic-regression\n",
            "  extra_warning_msg=_LOGISTIC_SOLVER_CONVERGENCE_MSG,\n"
          ]
        }
      ]
    },
    {
      "cell_type": "code",
      "source": [
        "cols= df.columns.tolist()\n",
        "print(\"new_project = [\")\n",
        "for item in cols:\n",
        "    print(\"\\t0, \" + \"#\" + item)\n",
        "print(\"]\")\n",
        "\n",
        "new_project = [0, #Comments\n",
        "\t9, #Rewards\n",
        "\t2500, #Goal\n",
        "\t157, #Backers\n",
        "\t31, #Duration in Days\n",
        "\t319, #Facebook Friends\n",
        "\t110, #Facebook Shares\n",
        "\t1, #Creator - # Projects Created\n",
        "\t0, #Creator - # Projects Backed\n",
        "\t0, ## Videos\n",
        "\t12, ## Images\n",
        "\t872, ## Words (Description)\n",
        "\t65, ## Words (Risks and Challenges)\n",
        "\t0, ## FAQs\n",
        "\t1, #Currency_CAD\n",
        "\t0, #Currency_EUR\n",
        "\t0, #Currency_GBP\n",
        "\t0, #Currency_NZD\n",
        "\t0, #Currency_USD\n",
        "\t0, #Top Category_Comics\n",
        "\t0, #Top Category_Crafts\n",
        "\t0, #Top Category_Dance\n",
        "\t0, #Top Category_Design\n",
        "\t0, #Top Category_Fashion\n",
        "\t1, #Top Category_Film & Video\n",
        "\t0, #Top Category_Food\n",
        "\t0, #Top Category_Games\n",
        "\t0, #Top Category_Journalism\n",
        "\t0, #Top Category_Music\n",
        "\t0, #Top Category_Photography\n",
        "\t0, #Top Category_Publishing\n",
        "\t0, #Top Category_Technology\n",
        "\t0, #Top Category_Theater\n",
        "\t0, #Facebook Connected_Yes\n",
        "\t1, #Has Video_Yes\n",
        "]\n",
        "\n",
        "new_pred = model.predict([new_project])\n",
        "new_pred"
      ],
      "metadata": {
        "id": "hWat0QYF0ASz",
        "outputId": "3cc22d71-c127-4383-dae3-b2894325fe51",
        "colab": {
          "base_uri": "https://localhost:8080/"
        }
      },
      "execution_count": null,
      "outputs": [
        {
          "output_type": "stream",
          "name": "stdout",
          "text": [
            "new_project = [\n",
            "\t0, #Comments\n",
            "\t0, #Rewards\n",
            "\t0, #Goal\n",
            "\t0, #Backers\n",
            "\t0, #Duration in Days\n",
            "\t0, #Facebook Friends\n",
            "\t0, #Facebook Shares\n",
            "\t0, #Creator - # Projects Created\n",
            "\t0, #Creator - # Projects Backed\n",
            "\t0, ## Videos\n",
            "\t0, ## Images\n",
            "\t0, ## Words (Description)\n",
            "\t0, ## Words (Risks and Challenges)\n",
            "\t0, ## FAQs\n",
            "\t0, #State_successful\n",
            "\t0, #Currency_CAD\n",
            "\t0, #Currency_EUR\n",
            "\t0, #Currency_GBP\n",
            "\t0, #Currency_NZD\n",
            "\t0, #Currency_USD\n",
            "\t0, #Top Category_Comics\n",
            "\t0, #Top Category_Crafts\n",
            "\t0, #Top Category_Dance\n",
            "\t0, #Top Category_Design\n",
            "\t0, #Top Category_Fashion\n",
            "\t0, #Top Category_Film & Video\n",
            "\t0, #Top Category_Food\n",
            "\t0, #Top Category_Games\n",
            "\t0, #Top Category_Journalism\n",
            "\t0, #Top Category_Music\n",
            "\t0, #Top Category_Photography\n",
            "\t0, #Top Category_Publishing\n",
            "\t0, #Top Category_Technology\n",
            "\t0, #Top Category_Theater\n",
            "\t0, #Facebook Connected_Yes\n",
            "\t0, #Has Video_Yes\n",
            "]\n"
          ]
        },
        {
          "output_type": "stream",
          "name": "stderr",
          "text": [
            "/usr/local/lib/python3.7/dist-packages/sklearn/base.py:451: UserWarning: X does not have valid feature names, but LogisticRegression was fitted with feature names\n",
            "  \"X does not have valid feature names, but\"\n"
          ]
        },
        {
          "output_type": "execute_result",
          "data": {
            "text/plain": [
              "array([1], dtype=uint8)"
            ]
          },
          "metadata": {},
          "execution_count": 19
        }
      ]
    }
  ]
}