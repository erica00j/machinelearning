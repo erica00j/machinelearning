{
  "nbformat": 4,
  "nbformat_minor": 0,
  "metadata": {
    "colab": {
      "provenance": [],
      "authorship_tag": "ABX9TyOsf4eeUWG5nrmRb6mCvvoe",
      "include_colab_link": true
    },
    "kernelspec": {
      "name": "python3",
      "display_name": "Python 3"
    },
    "language_info": {
      "name": "python"
    }
  },
  "cells": [
    {
      "cell_type": "markdown",
      "metadata": {
        "id": "view-in-github",
        "colab_type": "text"
      },
      "source": [
        "<a href=\"https://colab.research.google.com/github/erica00j/machinelearning/blob/main/NN1.ipynb\" target=\"_parent\"><img src=\"https://colab.research.google.com/assets/colab-badge.svg\" alt=\"Open In Colab\"/></a>"
      ]
    },
    {
      "cell_type": "code",
      "execution_count": 2,
      "metadata": {
        "colab": {
          "base_uri": "https://localhost:8080/"
        },
        "id": "1iVvd-iyBuwi",
        "outputId": "475be416-a01a-4705-db8e-954250806ae6"
      },
      "outputs": [
        {
          "output_type": "stream",
          "name": "stdout",
          "text": [
            "*\n",
            "[[0.55764204]\n",
            " [0.49904986]]\n",
            "**\n",
            "[[0.51275837]\n",
            " [0.54106507]]\n"
          ]
        }
      ],
      "source": [
        "import numpy \n",
        "# scipy.special for the sigmoid function expit()\n",
        "import scipy.special\n",
        "\n",
        "#neural network class definition \n",
        "\n",
        "class neuralNetwork: \n",
        "\n",
        "#initialise the neural network \n",
        "\n",
        "    def __init__(self, inputnodes, hiddennodes, outputnodes,  learningrate): \n",
        "        \n",
        "#set number of nodes in each input, hidden, output layer  \n",
        "          self.inodes = inputnodes\n",
        "          self.hnodes = hiddennodes\n",
        "          self.onodes = outputnodes\n",
        "\n",
        "\n",
        "# link weight matrices, wih & who\n",
        "# weights inside the arrays are w_i_j , where link is from node i to node j in the next layer\n",
        "\n",
        "       #  self.wih = (numpy.random.rand(self.hnodes, self.inodes) - 0.5)\n",
        "       #  self.who = (numpy.random.rand(self.onodes, self.hnodes) - 0.5)\n",
        "          self.wih = numpy.random.normal(0.0, pow(self.inodes, -0.5), (self.hnodes, self.inodes))\n",
        "          self.who = numpy.random.normal(0.0, pow(self.hnodes, -0.5), (self.onodes, self.hnodes))\n",
        "            \n",
        "#learning rate\n",
        "          self.lr = learning_rate \n",
        "       \n",
        "# activation function is the sigmoid function\n",
        "          self.activation_function = lambda x: scipy.special.expit(x)\n",
        "    \n",
        "#train the neural network\n",
        "    def train(self, inputs_list, targets_list): \n",
        "        # convert inputs list into 2d arrays\n",
        "        inputs = numpy.array(inputs_list, ndmin = 2).T  \n",
        "        targets = numpy.array(targets_list, ndmin = 2).T  \n",
        "        \n",
        "        # calculate signals into hidden layer\n",
        "        hidden_inputs = numpy.dot(self.wih, inputs)        \n",
        "        # calculate the signals emerging from hidden layer\n",
        "        hidden_outputs = self.activation_function(hidden_inputs)\n",
        "        # calculate signals into final output layer\n",
        "        final_inputs = numpy.dot(self.who, hidden_outputs)\n",
        "        # calculate the signals emerging from final output layer\n",
        "        final_outputs = self.activation_function(final_inputs)    \n",
        "            \n",
        "        # error is the (target - actual)\n",
        "        output_errors = targets - final_outputs   \n",
        "        # hidden layer error is the output_errors, split by weights, recombined at hidden nodes\n",
        "        hidden_errors = numpy.dot(self.who.T, output_errors)   \n",
        "        \n",
        "        # update the weights for the links between the hidden & output layers\n",
        "        self.who += self.lr * numpy.dot((output_errors*final_outputs*(1.0-final_outputs)), numpy.transpose(hidden_outputs))\n",
        "        # update the weights for the links between the input & hidden layers\n",
        "        self.wih += self.lr * numpy.dot((hidden_errors*hidden_outputs*(1.0-hidden_outputs)), numpy.transpose(inputs))   \n",
        "        \n",
        "        return final_outputs\n",
        "        #return output_errors\n",
        "    \n",
        "# query the neural network\n",
        "    def query(self, inputs_list):\n",
        "        # convert inputs list into 2d arrays\n",
        "        inputs = numpy.array(inputs_list, ndmin = 2).T\n",
        "        \n",
        "        # calculate signals into hidden layer\n",
        "        hidden_inputs = numpy.dot(self.wih, inputs)\n",
        "        \n",
        "        \n",
        "        # calculate the signals emerging from hidden layer\n",
        "        hidden_outputs = self.activation_function(hidden_inputs)\n",
        "\n",
        "        # calculate signals into final output layer\n",
        "        final_inputs = numpy.dot(self.who, hidden_outputs)\n",
        "\n",
        "        # calculate the signals emerging from final output layer\n",
        "        final_outputs = self.activation_function(final_inputs)\n",
        "        \n",
        "        \n",
        "        return final_outputs\n",
        "    \n",
        "#Main code\n",
        "#number of input, hidden and output nodes  \n",
        "input_nodes = 2 \n",
        "hidden_nodes = 2\n",
        "output_nodes = 2\n",
        "\n",
        "#learning rate is 0.3  \n",
        "learning_rate = 0.3\n",
        "    \n",
        "#create instance of neural network \n",
        "n = neuralNetwork(input_nodes,hidden_nodes,output_nodes, learning_rate) \n",
        "final_outputs = n.query([0.05,0.10])\n",
        "print('*')\n",
        "print(final_outputs)\n",
        "for e in range(10):\n",
        "    n.train([0.05,0.10],[0.01,0.99])\n",
        "print('**')\n",
        "outputs = n.query([0.05,0.10])\n",
        "print(outputs)"
      ]
    },
    {
      "cell_type": "code",
      "source": [
        "for e in range(100):\n",
        "    n.train([0.05,0.10],[0.01,0.99])\n",
        "print('**')\n",
        "outputs = n.query([0.05,0.10])\n",
        "print(outputs)"
      ],
      "metadata": {
        "colab": {
          "base_uri": "https://localhost:8080/"
        },
        "id": "5jiPM1daCVEe",
        "outputId": "7a2ff508-547c-4629-84ab-3c087003c170"
      },
      "execution_count": 3,
      "outputs": [
        {
          "output_type": "stream",
          "name": "stdout",
          "text": [
            "**\n",
            "[[0.25417415]\n",
            " [0.76590165]]\n"
          ]
        }
      ]
    },
    {
      "cell_type": "code",
      "source": [
        "for e in range(10000):\n",
        "    n.train([0.05,0.10],[0.01,0.99])\n",
        "print('**')\n",
        "outputs = n.query([0.05,0.10])\n",
        "print(outputs)"
      ],
      "metadata": {
        "colab": {
          "base_uri": "https://localhost:8080/"
        },
        "id": "vKTJ8vetCisM",
        "outputId": "02559461-234b-444e-da21-50284a742e22"
      },
      "execution_count": 4,
      "outputs": [
        {
          "output_type": "stream",
          "name": "stdout",
          "text": [
            "**\n",
            "[[0.01462966]\n",
            " [0.98564632]]\n"
          ]
        }
      ]
    }
  ]
}